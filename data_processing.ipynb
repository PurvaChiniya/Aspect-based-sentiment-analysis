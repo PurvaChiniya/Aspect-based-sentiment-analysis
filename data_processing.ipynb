{
  "nbformat": 4,
  "nbformat_minor": 0,
  "metadata": {
    "colab": {
      "name": "data_processing",
      "provenance": [],
      "authorship_tag": "ABX9TyMiVGOYs082R7vjX3Zvcwmf",
      "include_colab_link": true
    },
    "kernelspec": {
      "name": "python3",
      "display_name": "Python 3"
    },
    "language_info": {
      "name": "python"
    }
  },
  "cells": [
    {
      "cell_type": "markdown",
      "metadata": {
        "id": "view-in-github",
        "colab_type": "text"
      },
      "source": [
        "<a href=\"https://colab.research.google.com/github/PurvaChiniya/Aspect-based-sentiment-analysis/blob/main/data_processing.ipynb\" target=\"_parent\"><img src=\"https://colab.research.google.com/assets/colab-badge.svg\" alt=\"Open In Colab\"/></a>"
      ]
    },
    {
      "cell_type": "code",
      "execution_count": 17,
      "metadata": {
        "id": "wfCN_pvOTx6k"
      },
      "outputs": [],
      "source": [
        "# convert the given json format to csv file\n",
        "import json\n",
        "from tqdm import tqdm\n",
        "import pandas as pd"
      ]
    },
    {
      "cell_type": "code",
      "source": [
        "from google.colab import drive\n",
        "drive.mount('/content/drive', force_remount=True)"
      ],
      "metadata": {
        "colab": {
          "base_uri": "https://localhost:8080/"
        },
        "id": "HbQZA8mtX6dd",
        "outputId": "0852f8b0-6c6b-41ae-82fb-49a7eb893c09"
      },
      "execution_count": 18,
      "outputs": [
        {
          "output_type": "stream",
          "name": "stdout",
          "text": [
            "Mounted at /content/drive\n"
          ]
        }
      ]
    },
    {
      "cell_type": "code",
      "source": [
        "folder=\"/content/drive/MyDrive/sentihood\""
      ],
      "metadata": {
        "id": "J52ijx7FX9tV"
      },
      "execution_count": 19,
      "outputs": []
    },
    {
      "cell_type": "code",
      "source": [
        "train='/content/drive/My Drive/sentihood/sentihood-train.json'\n",
        "test='/content/drive/My Drive/sentihood/sentihood-test.json'\n",
        "val=\"/content/drive/My Drive/sentihood/sentihood-dev.json\""
      ],
      "metadata": {
        "id": "oVXzqUdKYHBO"
      },
      "execution_count": 20,
      "outputs": []
    },
    {
      "cell_type": "code",
      "source": [
        "output_train=\"/content/train.csv\"\n",
        "output_test=\"/content/test.csv\"\n",
        "output_val=\"/content/val.csv\"\n"
      ],
      "metadata": {
        "id": "0f8R5PxoYXsx"
      },
      "execution_count": 21,
      "outputs": []
    },
    {
      "cell_type": "code",
      "source": [
        "def create_dataset(input_json,output_csv):\n",
        "    with open(input_json, 'r') as f:\n",
        "        file = json.load(f)\n",
        "    locations = ['LOCATION1', 'LOCATION2']\n",
        "    aspects = ['dining', 'general', 'green-nature', 'live', 'multicultural', 'nightlife', 'price', 'quiet', 'safety', 'shopping', 'touristy', 'transit-location']\n",
        "\n",
        "    df = pd.DataFrame({'id': [], 'text': [], 'auxiliary_sentence': [], 'sentiment': []})\n",
        "    ii = 0\n",
        "\n",
        "    count = 1\n",
        "    for location in locations:\n",
        "      for sample in tqdm(file, ncols=80):\n",
        "        text = sample['text'].strip()\n",
        "        id = str(int(sample['id']))\n",
        "        \n",
        "        # find location-aspect points.\n",
        "\n",
        "        if location in text:\n",
        "          # current_opinion_aspects: Is a dictionary containing all aspects and  \n",
        "          # their corresponding sentiment present in the current opinion.\n",
        "          current_opinion_aspects = {}\n",
        "\n",
        "          for opinion in sample['opinions']:\n",
        "            if opinion['target_entity'] == location:\n",
        "              current_opinion_aspects[opinion['aspect']] = opinion['sentiment']\n",
        "          \n",
        "          for aspect in aspects:\n",
        "            auxiliary_sentence = f\"location - {str(count)} - {aspect}\"\n",
        "            text = text.replace(location, 'location - ' + str(count))\n",
        "            \n",
        "            if aspect in current_opinion_aspects.keys():\n",
        "              df.loc[ii] = [id, text, auxiliary_sentence, current_opinion_aspects[aspect]]\n",
        "            else:\n",
        "              df.loc[ii] = [id, text, auxiliary_sentence, 'None']\n",
        "            ii += 1\n",
        "        \n",
        "      count += 1\n",
        "    df.to_csv(output_csv, index=False)"
      ],
      "metadata": {
        "id": "DOtIcPFeYbYS"
      },
      "execution_count": 22,
      "outputs": []
    },
    {
      "cell_type": "code",
      "source": [
        "create_dataset(train,output_train)"
      ],
      "metadata": {
        "id": "5D-vkq3sKw77",
        "colab": {
          "base_uri": "https://localhost:8080/"
        },
        "outputId": "413ec39c-fd23-4d80-b138-5d0752e0589e"
      },
      "execution_count": 23,
      "outputs": [
        {
          "output_type": "stream",
          "name": "stderr",
          "text": [
            "100%|███████████████████████████████████████| 2977/2977 [02:25<00:00, 20.49it/s]\n",
            "100%|███████████████████████████████████████| 2977/2977 [00:53<00:00, 55.47it/s]\n"
          ]
        }
      ]
    },
    {
      "cell_type": "code",
      "source": [
        "create_dataset(test,output_test)"
      ],
      "metadata": {
        "colab": {
          "base_uri": "https://localhost:8080/"
        },
        "id": "t7wkjgkXK7KX",
        "outputId": "5c4bff90-b4f8-4713-853a-d2c11e046a0f"
      },
      "execution_count": 24,
      "outputs": [
        {
          "output_type": "stream",
          "name": "stderr",
          "text": [
            "100%|███████████████████████████████████████| 1491/1491 [01:16<00:00, 19.52it/s]\n",
            "100%|███████████████████████████████████████| 1491/1491 [00:25<00:00, 59.44it/s]\n"
          ]
        }
      ]
    },
    {
      "cell_type": "code",
      "source": [
        "create_dataset(val,output_val)"
      ],
      "metadata": {
        "id": "J5vuX_5FLgSB",
        "colab": {
          "base_uri": "https://localhost:8080/"
        },
        "outputId": "fbdfa16b-b80c-4d7e-df4b-e2b082aa330e"
      },
      "execution_count": 25,
      "outputs": [
        {
          "output_type": "stream",
          "name": "stderr",
          "text": [
            "100%|█████████████████████████████████████████| 747/747 [00:32<00:00, 22.78it/s]\n",
            "100%|█████████████████████████████████████████| 747/747 [00:09<00:00, 77.69it/s]\n"
          ]
        }
      ]
    }
  ]
}